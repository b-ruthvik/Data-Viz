{
 "cells": [
  {
   "cell_type": "code",
   "execution_count": 2,
   "id": "e87628a5",
   "metadata": {},
   "outputs": [],
   "source": [
    "import matplotlib \n",
    "import matplotlib.pyplot as plt\n",
    "import numpy as np\n",
    "import pandas as pd"
   ]
  },
  {
   "cell_type": "code",
   "execution_count": 3,
   "id": "4f39b0b9",
   "metadata": {},
   "outputs": [],
   "source": [
    "data = pd.read_csv('/Users/ruthvikb/Downloads/data.csv')"
   ]
  },
  {
   "cell_type": "code",
   "execution_count": 4,
   "id": "e1bdbd89",
   "metadata": {},
   "outputs": [
    {
     "data": {
      "text/html": [
       "<div>\n",
       "<style scoped>\n",
       "    .dataframe tbody tr th:only-of-type {\n",
       "        vertical-align: middle;\n",
       "    }\n",
       "\n",
       "    .dataframe tbody tr th {\n",
       "        vertical-align: top;\n",
       "    }\n",
       "\n",
       "    .dataframe thead th {\n",
       "        text-align: right;\n",
       "    }\n",
       "</style>\n",
       "<table border=\"1\" class=\"dataframe\">\n",
       "  <thead>\n",
       "    <tr style=\"text-align: right;\">\n",
       "      <th></th>\n",
       "      <th>game_name</th>\n",
       "      <th>month</th>\n",
       "      <th>total_ticket_sales</th>\n",
       "      <th>total_ticket_sales_count</th>\n",
       "      <th>year</th>\n",
       "      <th>zip_code</th>\n",
       "    </tr>\n",
       "  </thead>\n",
       "  <tbody>\n",
       "    <tr>\n",
       "      <th>0</th>\n",
       "      <td>Lotto</td>\n",
       "      <td>January</td>\n",
       "      <td>680904.0</td>\n",
       "      <td>169,005</td>\n",
       "      <td>2017</td>\n",
       "      <td>Online</td>\n",
       "    </tr>\n",
       "    <tr>\n",
       "      <th>1</th>\n",
       "      <td>Lucky Day Lotto</td>\n",
       "      <td>January</td>\n",
       "      <td>519490.0</td>\n",
       "      <td>406,786</td>\n",
       "      <td>2017</td>\n",
       "      <td>Online</td>\n",
       "    </tr>\n",
       "    <tr>\n",
       "      <th>2</th>\n",
       "      <td>Mega Millions</td>\n",
       "      <td>January</td>\n",
       "      <td>623048.0</td>\n",
       "      <td>149,777</td>\n",
       "      <td>2017</td>\n",
       "      <td>Online</td>\n",
       "    </tr>\n",
       "    <tr>\n",
       "      <th>3</th>\n",
       "      <td>Pick 3</td>\n",
       "      <td>January</td>\n",
       "      <td>117236.0</td>\n",
       "      <td>7,565</td>\n",
       "      <td>2017</td>\n",
       "      <td>Online</td>\n",
       "    </tr>\n",
       "    <tr>\n",
       "      <th>4</th>\n",
       "      <td>Pick3 Fireball</td>\n",
       "      <td>January</td>\n",
       "      <td>59059.0</td>\n",
       "      <td>3,801</td>\n",
       "      <td>2017</td>\n",
       "      <td>Online</td>\n",
       "    </tr>\n",
       "    <tr>\n",
       "      <th>...</th>\n",
       "      <td>...</td>\n",
       "      <td>...</td>\n",
       "      <td>...</td>\n",
       "      <td>...</td>\n",
       "      <td>...</td>\n",
       "      <td>...</td>\n",
       "    </tr>\n",
       "    <tr>\n",
       "      <th>995</th>\n",
       "      <td>Pick 4</td>\n",
       "      <td>January</td>\n",
       "      <td>94370.5</td>\n",
       "      <td>128,838</td>\n",
       "      <td>2017</td>\n",
       "      <td>60154</td>\n",
       "    </tr>\n",
       "    <tr>\n",
       "      <th>996</th>\n",
       "      <td>Pick4 Fireball</td>\n",
       "      <td>January</td>\n",
       "      <td>32219.5</td>\n",
       "      <td>45,066</td>\n",
       "      <td>2017</td>\n",
       "      <td>60154</td>\n",
       "    </tr>\n",
       "    <tr>\n",
       "      <th>997</th>\n",
       "      <td>Powerball</td>\n",
       "      <td>January</td>\n",
       "      <td>26680.0</td>\n",
       "      <td>6,664</td>\n",
       "      <td>2017</td>\n",
       "      <td>60154</td>\n",
       "    </tr>\n",
       "    <tr>\n",
       "      <th>998</th>\n",
       "      <td>EZ Match</td>\n",
       "      <td>January</td>\n",
       "      <td>1133.0</td>\n",
       "      <td>1,133</td>\n",
       "      <td>2017</td>\n",
       "      <td>60155</td>\n",
       "    </tr>\n",
       "    <tr>\n",
       "      <th>999</th>\n",
       "      <td>Instant Rollup</td>\n",
       "      <td>January</td>\n",
       "      <td>100650.0</td>\n",
       "      <td>Not Tracked</td>\n",
       "      <td>2017</td>\n",
       "      <td>60155</td>\n",
       "    </tr>\n",
       "  </tbody>\n",
       "</table>\n",
       "<p>1000 rows × 6 columns</p>\n",
       "</div>"
      ],
      "text/plain": [
       "           game_name    month  total_ticket_sales total_ticket_sales_count  \\\n",
       "0              Lotto  January            680904.0                  169,005   \n",
       "1    Lucky Day Lotto  January            519490.0                  406,786   \n",
       "2     Mega Millions   January            623048.0                  149,777   \n",
       "3             Pick 3  January            117236.0                    7,565   \n",
       "4     Pick3 Fireball  January             59059.0                    3,801   \n",
       "..               ...      ...                 ...                      ...   \n",
       "995           Pick 4  January             94370.5                  128,838   \n",
       "996   Pick4 Fireball  January             32219.5                   45,066   \n",
       "997        Powerball  January             26680.0                    6,664   \n",
       "998         EZ Match  January              1133.0                    1,133   \n",
       "999   Instant Rollup  January            100650.0              Not Tracked   \n",
       "\n",
       "     year zip_code  \n",
       "0    2017   Online  \n",
       "1    2017   Online  \n",
       "2    2017   Online  \n",
       "3    2017   Online  \n",
       "4    2017   Online  \n",
       "..    ...      ...  \n",
       "995  2017    60154  \n",
       "996  2017    60154  \n",
       "997  2017    60154  \n",
       "998  2017    60155  \n",
       "999  2017    60155  \n",
       "\n",
       "[1000 rows x 6 columns]"
      ]
     },
     "execution_count": 4,
     "metadata": {},
     "output_type": "execute_result"
    }
   ],
   "source": [
    "data"
   ]
  },
  {
   "cell_type": "code",
   "execution_count": 5,
   "id": "5367086c",
   "metadata": {},
   "outputs": [],
   "source": [
    "#dropping the rows which has zip_code = \"Online\", as discussed in class\n",
    "data_1 = data[data.zip_code != 'Online']"
   ]
  },
  {
   "cell_type": "code",
   "execution_count": 6,
   "id": "dd8f7f28",
   "metadata": {},
   "outputs": [],
   "source": [
    "#data_1.plot(x = \"zip_code\", y = \"total_ticket_sales\", figsize=(20,6), rot=90)\n",
    "#plt.show()"
   ]
  },
  {
   "cell_type": "code",
   "execution_count": 7,
   "id": "8a5dd150",
   "metadata": {},
   "outputs": [],
   "source": [
    "#df = data_1.iloc[1:20][\"zip_code\"].unique()"
   ]
  },
  {
   "cell_type": "code",
   "execution_count": 8,
   "id": "e4e4368a",
   "metadata": {},
   "outputs": [],
   "source": [
    "aggregate = data_1.groupby(\"zip_code\")[\"total_ticket_sales\"].sum()"
   ]
  },
  {
   "cell_type": "code",
   "execution_count": 9,
   "id": "21a76416",
   "metadata": {},
   "outputs": [],
   "source": [
    "agg_data_20 = aggregate.index[0:20]"
   ]
  },
  {
   "cell_type": "code",
   "execution_count": 10,
   "id": "c04aabb0",
   "metadata": {},
   "outputs": [
    {
     "data": {
      "text/plain": [
       "Index(['60002', '60004', '60005', '60007', '60008', '60010', '60012', '60013',\n",
       "       '60014', '60015', '60016', '60018', '60020', '60021', '60022', '60025',\n",
       "       '60026', '60030', '60031', '60033'],\n",
       "      dtype='object', name='zip_code')"
      ]
     },
     "execution_count": 10,
     "metadata": {},
     "output_type": "execute_result"
    }
   ],
   "source": [
    "agg_data_20"
   ]
  },
  {
   "cell_type": "code",
   "execution_count": 11,
   "id": "c35e6f15",
   "metadata": {},
   "outputs": [],
   "source": [
    "agg_val_20 = aggregate.values[0:20]"
   ]
  },
  {
   "cell_type": "code",
   "execution_count": 12,
   "id": "7cf1ad35",
   "metadata": {},
   "outputs": [
    {
     "data": {
      "text/plain": [
       "array([ 500741. ,  491127. ,  617600. , 1056237. ,  537333. ,  133214. ,\n",
       "          8735. ,  257615.5,  631363.5,  299596. , 1663238. , 1127626. ,\n",
       "        401103.5,  119097.5,   25049.5,  588960.5,   55781. ,  505128.5,\n",
       "        529572.5,  221099. ])"
      ]
     },
     "execution_count": 12,
     "metadata": {},
     "output_type": "execute_result"
    }
   ],
   "source": [
    "agg_val_20"
   ]
  },
  {
   "cell_type": "code",
   "execution_count": 85,
   "id": "02481020",
   "metadata": {},
   "outputs": [],
   "source": [
    "#def addlabels(x,y):\n",
    "#    for i in range(len(x)):\n",
    "  #      plt.text(i,y[i],y[i])"
   ]
  },
  {
   "cell_type": "code",
   "execution_count": 87,
   "id": "0c588221",
   "metadata": {},
   "outputs": [
    {
     "data": {
      "text/plain": [
       "<function matplotlib.pyplot.show(close=None, block=None)>"
      ]
     },
     "execution_count": 87,
     "metadata": {},
     "output_type": "execute_result"
    },
    {
     "data": {
      "image/png": "[encoded data removed]",
      "text/plain": [
       "<Figure size 432x288 with 1 Axes>"
      ]
     },
     "metadata": {
      "needs_background": "light"
     },
     "output_type": "display_data"
    },
    {
     "data": {
      "text/plain": [
       "<Figure size 7200x3600 with 0 Axes>"
      ]
     },
     "metadata": {},
     "output_type": "display_data"
    }
   ],
   "source": [
    "#plt.bar(agg_data_20, agg_val_20, fc=\"lightgrey\")\n",
    "#plt.ylim(ymin=0,ymax=max(agg_val_20))\n",
    "#plt.xlabel(\"ZipCode\")\n",
    "#plt.ylabel(\"Aggregate ticket sales\")\n",
    "#plt.xticks(rotation = 90)\n",
    "#addlabels(agg_data_20, agg_val_20)\n",
    "#plt.figure(figsize=(100,50))\n",
    "#plt.show\n",
    "#aggregate_data = data_1.groupby(\"zip_code\")[\"total_ticket_sales\"].sum()\n",
    "#aggregate_data.plot()"
   ]
  },
  {
   "cell_type": "code",
   "execution_count": 15,
   "id": "07a0b15a",
   "metadata": {},
   "outputs": [
    {
     "data": {
      "text/plain": [
       "'60002'"
      ]
     },
     "execution_count": 15,
     "metadata": {},
     "output_type": "execute_result"
    }
   ],
   "source": [
    "data[\"zip_code\"].min()"
   ]
  },
  {
   "cell_type": "code",
   "execution_count": 16,
   "id": "b45a022f",
   "metadata": {},
   "outputs": [
    {
     "data": {
      "text/html": [
       "<div>\n",
       "<style scoped>\n",
       "    .dataframe tbody tr th:only-of-type {\n",
       "        vertical-align: middle;\n",
       "    }\n",
       "\n",
       "    .dataframe tbody tr th {\n",
       "        vertical-align: top;\n",
       "    }\n",
       "\n",
       "    .dataframe thead th {\n",
       "        text-align: right;\n",
       "    }\n",
       "</style>\n",
       "<table border=\"1\" class=\"dataframe\">\n",
       "  <thead>\n",
       "    <tr style=\"text-align: right;\">\n",
       "      <th></th>\n",
       "      <th>game_name</th>\n",
       "      <th>month</th>\n",
       "      <th>total_ticket_sales</th>\n",
       "      <th>total_ticket_sales_count</th>\n",
       "      <th>year</th>\n",
       "      <th>zip_code</th>\n",
       "    </tr>\n",
       "  </thead>\n",
       "  <tbody>\n",
       "    <tr>\n",
       "      <th>8</th>\n",
       "      <td>EZ Match</td>\n",
       "      <td>January</td>\n",
       "      <td>3344.0</td>\n",
       "      <td>3,344</td>\n",
       "      <td>2017</td>\n",
       "      <td>60002</td>\n",
       "    </tr>\n",
       "    <tr>\n",
       "      <th>10</th>\n",
       "      <td>Lotto</td>\n",
       "      <td>January</td>\n",
       "      <td>22696.0</td>\n",
       "      <td>6,883</td>\n",
       "      <td>2017</td>\n",
       "      <td>60002</td>\n",
       "    </tr>\n",
       "    <tr>\n",
       "      <th>11</th>\n",
       "      <td>Lucky Day Lotto</td>\n",
       "      <td>January</td>\n",
       "      <td>27941.0</td>\n",
       "      <td>11,913</td>\n",
       "      <td>2017</td>\n",
       "      <td>60002</td>\n",
       "    </tr>\n",
       "    <tr>\n",
       "      <th>12</th>\n",
       "      <td>Mega Millions</td>\n",
       "      <td>January</td>\n",
       "      <td>21131.0</td>\n",
       "      <td>7,693</td>\n",
       "      <td>2017</td>\n",
       "      <td>60002</td>\n",
       "    </tr>\n",
       "    <tr>\n",
       "      <th>13</th>\n",
       "      <td>Pick 3</td>\n",
       "      <td>January</td>\n",
       "      <td>21482.5</td>\n",
       "      <td>19,999</td>\n",
       "      <td>2017</td>\n",
       "      <td>60002</td>\n",
       "    </tr>\n",
       "    <tr>\n",
       "      <th>...</th>\n",
       "      <td>...</td>\n",
       "      <td>...</td>\n",
       "      <td>...</td>\n",
       "      <td>...</td>\n",
       "      <td>...</td>\n",
       "      <td>...</td>\n",
       "    </tr>\n",
       "    <tr>\n",
       "      <th>992</th>\n",
       "      <td>Mega Millions</td>\n",
       "      <td>January</td>\n",
       "      <td>27513.0</td>\n",
       "      <td>9,271</td>\n",
       "      <td>2017</td>\n",
       "      <td>60154</td>\n",
       "    </tr>\n",
       "    <tr>\n",
       "      <th>994</th>\n",
       "      <td>Pick3 Fireball</td>\n",
       "      <td>January</td>\n",
       "      <td>21003.0</td>\n",
       "      <td>25,662</td>\n",
       "      <td>2017</td>\n",
       "      <td>60154</td>\n",
       "    </tr>\n",
       "    <tr>\n",
       "      <th>996</th>\n",
       "      <td>Pick4 Fireball</td>\n",
       "      <td>January</td>\n",
       "      <td>32219.5</td>\n",
       "      <td>45,066</td>\n",
       "      <td>2017</td>\n",
       "      <td>60154</td>\n",
       "    </tr>\n",
       "    <tr>\n",
       "      <th>997</th>\n",
       "      <td>Powerball</td>\n",
       "      <td>January</td>\n",
       "      <td>26680.0</td>\n",
       "      <td>6,664</td>\n",
       "      <td>2017</td>\n",
       "      <td>60154</td>\n",
       "    </tr>\n",
       "    <tr>\n",
       "      <th>998</th>\n",
       "      <td>EZ Match</td>\n",
       "      <td>January</td>\n",
       "      <td>1133.0</td>\n",
       "      <td>1,133</td>\n",
       "      <td>2017</td>\n",
       "      <td>60155</td>\n",
       "    </tr>\n",
       "  </tbody>\n",
       "</table>\n",
       "<p>896 rows × 6 columns</p>\n",
       "</div>"
      ],
      "text/plain": [
       "           game_name    month  total_ticket_sales total_ticket_sales_count  \\\n",
       "8           EZ Match  January              3344.0                    3,344   \n",
       "10             Lotto  January             22696.0                    6,883   \n",
       "11   Lucky Day Lotto  January             27941.0                   11,913   \n",
       "12    Mega Millions   January             21131.0                    7,693   \n",
       "13            Pick 3  January             21482.5                   19,999   \n",
       "..               ...      ...                 ...                      ...   \n",
       "992   Mega Millions   January             27513.0                    9,271   \n",
       "994   Pick3 Fireball  January             21003.0                   25,662   \n",
       "996   Pick4 Fireball  January             32219.5                   45,066   \n",
       "997        Powerball  January             26680.0                    6,664   \n",
       "998         EZ Match  January              1133.0                    1,133   \n",
       "\n",
       "     year zip_code  \n",
       "8    2017    60002  \n",
       "10   2017    60002  \n",
       "11   2017    60002  \n",
       "12   2017    60002  \n",
       "13   2017    60002  \n",
       "..    ...      ...  \n",
       "992  2017    60154  \n",
       "994  2017    60154  \n",
       "996  2017    60154  \n",
       "997  2017    60154  \n",
       "998  2017    60155  \n",
       "\n",
       "[896 rows x 6 columns]"
      ]
     },
     "execution_count": 16,
     "metadata": {},
     "output_type": "execute_result"
    }
   ],
   "source": [
    "data_1.loc[data_1[\"total_ticket_sales\"] < 60000]"
   ]
  },
  {
   "cell_type": "code",
   "execution_count": 38,
   "id": "9e5a262e",
   "metadata": {},
   "outputs": [
    {
     "data": {
      "image/png": "[encoded data removed]",
      "text/plain": [
       "<Figure size 720x432 with 1 Axes>"
      ]
     },
     "metadata": {},
     "output_type": "display_data"
    }
   ],
   "source": [
    "fig, ax = plt.subplots(figsize=(10,6))\n",
    "ax.grid(b = True, color ='grey',\n",
    "        linestyle ='-.', linewidth = 0.5,\n",
    "        alpha = 0.2)\n",
    "ax.bar(agg_data_20, agg_val_20, color='green')\n",
    "fig.autofmt_xdate(rotation=90)\n",
    "ax.set_title('Aggregate ticket sales value by ZipCode' , fontsize = 14, fontweight ='bold')\n",
    "ax.set_xlabel('ZipCode', \n",
    "               fontweight ='bold')\n",
    "ax.set_ylabel('Aggregate Ticket sales', \n",
    "               fontweight ='bold')\n",
    "plt.show()"
   ]
  },
  {
   "cell_type": "code",
   "execution_count": null,
   "id": "654eef93",
   "metadata": {},
   "outputs": [],
   "source": [
    "#EXPLANATION:\n",
    "#Bar graph clearly visualizes the data when comparing categories. In our example, we are comparing sales data by \n",
    "#Zip codes. Also, larger changes and differences are present in the data, so according to me, bars graphs are better \n",
    "#than line graphs."
   ]
  }
 ],
 "metadata": {
  "kernelspec": {
   "display_name": "Python 3 (ipykernel)",
   "language": "python",
   "name": "python3"
  },
  "language_info": {
   "codemirror_mode": {
    "name": "ipython",
    "version": 3
   },
   "file_extension": ".py",
   "mimetype": "text/x-python",
   "name": "python",
   "nbconvert_exporter": "python",
   "pygments_lexer": "ipython3",
   "version": "3.9.7"
  }
 },
 "nbformat": 4,
 "nbformat_minor": 5
}
